{
 "cells": [
  {
   "cell_type": "code",
   "execution_count": 1,
   "id": "c1cebc18",
   "metadata": {},
   "outputs": [],
   "source": [
    "# reading the training data\n",
    "with open('input.txt', 'r', encoding='utf-8') as file:\n",
    "    text = file.read()"
   ]
  },
  {
   "cell_type": "code",
   "execution_count": 5,
   "id": "f1d4881e",
   "metadata": {},
   "outputs": [
    {
     "name": "stdout",
     "output_type": "stream",
     "text": [
      "1115394\n"
     ]
    }
   ],
   "source": [
    "# length of the training data i.e. how many characters in dataset\n",
    "print(len(text))"
   ]
  },
  {
   "cell_type": "code",
   "execution_count": 7,
   "id": "473b4a14",
   "metadata": {
    "scrolled": false
   },
   "outputs": [
    {
     "name": "stdout",
     "output_type": "stream",
     "text": [
      "First Citizen:\n",
      "Before we proceed any further, hear me speak.\n",
      "\n",
      "All:\n",
      "Speak, speak.\n",
      "\n",
      "First Citizen:\n",
      "You are all resolved rather to die than to famish?\n",
      "\n",
      "All:\n",
      "Resolved. resolved.\n",
      "\n",
      "First Citizen:\n",
      "First, you know Caius Marcius is chief enemy to the people.\n",
      "\n"
     ]
    }
   ],
   "source": [
    "# a small part of data\n",
    "print(text[:250])"
   ]
  },
  {
   "cell_type": "code",
   "execution_count": 16,
   "id": "3dca0139",
   "metadata": {},
   "outputs": [
    {
     "name": "stdout",
     "output_type": "stream",
     "text": [
      "65\n",
      "['\\n', ' ', '!', '$', '&', \"'\", ',', '-', '.', '3', ':', ';', '?', 'A', 'B', 'C', 'D', 'E', 'F', 'G', 'H', 'I', 'J', 'K', 'L', 'M', 'N', 'O', 'P', 'Q', 'R', 'S', 'T', 'U', 'V', 'W', 'X', 'Y', 'Z', 'a', 'b', 'c', 'd', 'e', 'f', 'g', 'h', 'i', 'j', 'k', 'l', 'm', 'n', 'o', 'p', 'q', 'r', 's', 't', 'u', 'v', 'w', 'x', 'y', 'z']\n"
     ]
    }
   ],
   "source": [
    "# creatig the character list\n",
    "chars = sorted(set(text))\n",
    "vocab_size = len(chars)\n",
    "print(vocab_size)\n",
    "print(chars)"
   ]
  },
  {
   "cell_type": "code",
   "execution_count": 50,
   "id": "886ae753",
   "metadata": {},
   "outputs": [
    {
     "name": "stdout",
     "output_type": "stream",
     "text": [
      "[46, 47, 47, 1, 58, 46, 43, 56, 43]\n",
      "hii there\n"
     ]
    }
   ],
   "source": [
    "# tokenizing the characters\n",
    "itos = {i:char for i,char in enumerate(chars)}\n",
    "stoi = {char:i for i,char in enumerate(chars)}\n",
    "\n",
    "# encoder and decoder\n",
    "encode = lambda s: [stoi[c] for c in s]\n",
    "decode = lambda i: ''.join([itos[j] for j in i])\n",
    "\n",
    "# a simple sample\n",
    "print(encode(\"hii there\"))\n",
    "print(decode(encode(\"hii there\")))"
   ]
  },
  {
   "cell_type": "code",
   "execution_count": 51,
   "id": "acd62037",
   "metadata": {
    "scrolled": true
   },
   "outputs": [
    {
     "name": "stdout",
     "output_type": "stream",
     "text": [
      "tensor([18, 47, 56, 57, 58,  1, 15, 47, 58, 47, 64, 43, 52, 10,  0, 14, 43, 44,\n",
      "        53, 56, 43,  1, 61, 43,  1, 54, 56, 53, 41, 43, 43, 42,  1, 39, 52, 63,\n",
      "         1, 44, 59, 56, 58, 46, 43, 56,  6,  1, 46, 43, 39, 56,  1, 51, 43,  1,\n",
      "        57, 54, 43, 39, 49,  8,  0,  0, 13, 50, 50, 10,  0, 31, 54, 43, 39, 49,\n",
      "         6,  1, 57, 54, 43, 39, 49,  8,  0,  0, 18, 47, 56, 57, 58,  1, 15, 47,\n",
      "        58, 47, 64, 43, 52, 10,  0, 37, 53, 59,  1, 39, 56, 43,  1, 39, 50, 50,\n",
      "         1, 56, 43, 57, 53, 50, 60, 43, 42,  1, 56, 39, 58, 46, 43, 56,  1, 58,\n",
      "        53,  1, 42, 47, 43,  1, 58, 46, 39, 52,  1, 58, 53,  1, 44, 39, 51, 47,\n",
      "        57, 46, 12,  0,  0, 13, 50, 50, 10,  0, 30, 43, 57, 53, 50, 60, 43, 42,\n",
      "         8,  1, 56, 43, 57, 53, 50, 60, 43, 42,  8,  0,  0, 18, 47, 56, 57, 58,\n",
      "         1, 15, 47, 58, 47, 64, 43, 52, 10,  0, 18, 47, 56, 57, 58,  6,  1, 63,\n",
      "        53, 59,  1, 49, 52, 53, 61,  1, 15, 39, 47, 59, 57,  1, 25, 39, 56, 41,\n",
      "        47, 59, 57,  1, 47, 57,  1, 41, 46, 47, 43, 44,  1, 43, 52, 43, 51, 63,\n",
      "         1, 58, 53,  1, 58, 46, 43,  1, 54, 43, 53, 54, 50, 43,  8,  0])\n"
     ]
    }
   ],
   "source": [
    "# encoding all the training set\n",
    "import torch\n",
    "data = torch.tensor(encode(text), dtype=torch.long)\n",
    "print(data[:250])"
   ]
  },
  {
   "cell_type": "code",
   "execution_count": 52,
   "id": "8b0368be",
   "metadata": {},
   "outputs": [],
   "source": [
    "# train/val/test split\n",
    "n1 = int(0.8*len(data))\n",
    "n2 = int(0.9*len(data))\n",
    "train_set = data[:n1]\n",
    "val_set = data[n1:n2]\n",
    "test_set = data[n2:]"
   ]
  },
  {
   "cell_type": "code",
   "execution_count": 54,
   "id": "d7ef2f1d",
   "metadata": {},
   "outputs": [
    {
     "data": {
      "text/plain": [
       "tensor([18, 47, 56, 57, 58,  1, 15, 47])"
      ]
     },
     "execution_count": 54,
     "metadata": {},
     "output_type": "execute_result"
    }
   ],
   "source": [
    "# max block size or context length for an individual input\n",
    "block_size = 8\n",
    "train_set[:block_size]"
   ]
  },
  {
   "cell_type": "code",
   "execution_count": 55,
   "id": "215510a2",
   "metadata": {},
   "outputs": [
    {
     "name": "stdout",
     "output_type": "stream",
     "text": [
      "When context is tensor([18]), output is 47\n",
      "When context is tensor([18, 47]), output is 56\n",
      "When context is tensor([18, 47, 56]), output is 57\n",
      "When context is tensor([18, 47, 56, 57]), output is 58\n",
      "When context is tensor([18, 47, 56, 57, 58]), output is 1\n",
      "When context is tensor([18, 47, 56, 57, 58,  1]), output is 15\n",
      "When context is tensor([18, 47, 56, 57, 58,  1, 15]), output is 47\n",
      "When context is tensor([18, 47, 56, 57, 58,  1, 15, 47]), output is 58\n"
     ]
    }
   ],
   "source": [
    "x = train_set[:block_size]\n",
    "y = train_set[1:block_size+1]\n",
    "\n",
    "for i in range(block_size):\n",
    "    context = x[:i+1]\n",
    "    output = y[i]\n",
    "    print(f'When context is {context}, output is {output}')"
   ]
  },
  {
   "cell_type": "code",
   "execution_count": 71,
   "id": "bfce280e",
   "metadata": {},
   "outputs": [
    {
     "name": "stdout",
     "output_type": "stream",
     "text": [
      "inputs:\n",
      "torch.Size([4, 8])\n",
      "tensor([[43,  1, 54, 39, 50, 43,  1, 51],\n",
      "        [57, 39, 50, 47, 52, 43,  6,  1],\n",
      "        [ 0, 20, 53, 61,  1, 61, 43, 50],\n",
      "        [53,  1, 39, 57,  1, 58, 46, 53]])\n",
      "targets:\n",
      "torch.Size([4, 8])\n",
      "tensor([[ 1, 54, 39, 50, 43,  1, 51, 53],\n",
      "        [39, 50, 47, 52, 43,  6,  1, 51],\n",
      "        [20, 53, 61,  1, 61, 43, 50, 50],\n",
      "        [ 1, 39, 57,  1, 58, 46, 53, 59]])\n",
      "--------------------------\n",
      "context[43], output 1\n",
      "context[43, 1], output 54\n",
      "context[43, 1, 54], output 39\n",
      "context[43, 1, 54, 39], output 50\n",
      "context[43, 1, 54, 39, 50], output 43\n",
      "context[43, 1, 54, 39, 50, 43], output 1\n",
      "context[43, 1, 54, 39, 50, 43, 1], output 51\n",
      "context[43, 1, 54, 39, 50, 43, 1, 51], output 53\n",
      "context[57], output 39\n",
      "context[57, 39], output 50\n",
      "context[57, 39, 50], output 47\n",
      "context[57, 39, 50, 47], output 52\n",
      "context[57, 39, 50, 47, 52], output 43\n",
      "context[57, 39, 50, 47, 52, 43], output 6\n",
      "context[57, 39, 50, 47, 52, 43, 6], output 1\n",
      "context[57, 39, 50, 47, 52, 43, 6, 1], output 51\n",
      "context[0], output 20\n",
      "context[0, 20], output 53\n",
      "context[0, 20, 53], output 61\n",
      "context[0, 20, 53, 61], output 1\n",
      "context[0, 20, 53, 61, 1], output 61\n",
      "context[0, 20, 53, 61, 1, 61], output 43\n",
      "context[0, 20, 53, 61, 1, 61, 43], output 50\n",
      "context[0, 20, 53, 61, 1, 61, 43, 50], output 50\n",
      "context[53], output 1\n",
      "context[53, 1], output 39\n",
      "context[53, 1, 39], output 57\n",
      "context[53, 1, 39, 57], output 1\n",
      "context[53, 1, 39, 57, 1], output 58\n",
      "context[53, 1, 39, 57, 1, 58], output 46\n",
      "context[53, 1, 39, 57, 1, 58, 46], output 53\n",
      "context[53, 1, 39, 57, 1, 58, 46, 53], output 59\n"
     ]
    }
   ],
   "source": [
    "torch.manual_seed(31)\n",
    "batch_size = 4\n",
    "block_size = 8\n",
    "def get_batch(data, batch_size=4, block_size=8): # 4 different chunks with context size of 8\n",
    "    # specifying the dataset\n",
    "    if data == 'train':\n",
    "        data = train_set\n",
    "    elif data =='val':\n",
    "        data = val_set\n",
    "    else:\n",
    "        data = test_set\n",
    "    \n",
    "    ix = torch.randint(len(data) - block_size, (batch_size,))\n",
    "    x = torch.stack([data[i:i+block_size] for i in ix])\n",
    "    y = torch.stack([data[i+1:i+block_size+1] for i in ix])\n",
    "    \n",
    "    return x, y\n",
    "\n",
    "xb, yb = get_batch('train')\n",
    "print('inputs:')\n",
    "print(xb.shape)\n",
    "print(xb)\n",
    "print('targets:')\n",
    "print(yb.shape)\n",
    "print(yb)\n",
    "print('--------------------------')\n",
    "\n",
    "for b in range(batch_size):\n",
    "    for i in range(block_size):\n",
    "        context = xb[b, :i+1]\n",
    "        output = yb[b, i]\n",
    "        print(f'context{context.tolist()}, output {output}')"
   ]
  },
  {
   "cell_type": "code",
   "execution_count": null,
   "id": "e2aa7320",
   "metadata": {},
   "outputs": [],
   "source": []
  }
 ],
 "metadata": {
  "kernelspec": {
   "display_name": "Python 3 (ipykernel)",
   "language": "python",
   "name": "python3"
  },
  "language_info": {
   "codemirror_mode": {
    "name": "ipython",
    "version": 3
   },
   "file_extension": ".py",
   "mimetype": "text/x-python",
   "name": "python",
   "nbconvert_exporter": "python",
   "pygments_lexer": "ipython3",
   "version": "3.9.13"
  }
 },
 "nbformat": 4,
 "nbformat_minor": 5
}
