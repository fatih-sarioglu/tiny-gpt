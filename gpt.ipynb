{
 "cells": [
  {
   "cell_type": "code",
   "execution_count": 1,
   "id": "c1cebc18",
   "metadata": {},
   "outputs": [],
   "source": [
    "# reading the training data\n",
    "with open('input.txt', 'r', encoding='utf-8') as file:\n",
    "    text = file.read()"
   ]
  },
  {
   "cell_type": "code",
   "execution_count": 2,
   "id": "f1d4881e",
   "metadata": {},
   "outputs": [
    {
     "name": "stdout",
     "output_type": "stream",
     "text": [
      "1115394\n"
     ]
    }
   ],
   "source": [
    "# length of the training data i.e. how many characters in dataset\n",
    "print(len(text))"
   ]
  },
  {
   "cell_type": "code",
   "execution_count": 3,
   "id": "473b4a14",
   "metadata": {
    "scrolled": false
   },
   "outputs": [
    {
     "name": "stdout",
     "output_type": "stream",
     "text": [
      "First Citizen:\n",
      "Before we proceed any further, hear me speak.\n",
      "\n",
      "All:\n",
      "Speak, speak.\n",
      "\n",
      "First Citizen:\n",
      "You are all resolved rather to die than to famish?\n",
      "\n",
      "All:\n",
      "Resolved. resolved.\n",
      "\n",
      "First Citizen:\n",
      "First, you know Caius Marcius is chief enemy to the people.\n",
      "\n"
     ]
    }
   ],
   "source": [
    "# a small part of data\n",
    "print(text[:250])"
   ]
  },
  {
   "cell_type": "code",
   "execution_count": 4,
   "id": "3dca0139",
   "metadata": {},
   "outputs": [
    {
     "name": "stdout",
     "output_type": "stream",
     "text": [
      "65\n",
      "['\\n', ' ', '!', '$', '&', \"'\", ',', '-', '.', '3', ':', ';', '?', 'A', 'B', 'C', 'D', 'E', 'F', 'G', 'H', 'I', 'J', 'K', 'L', 'M', 'N', 'O', 'P', 'Q', 'R', 'S', 'T', 'U', 'V', 'W', 'X', 'Y', 'Z', 'a', 'b', 'c', 'd', 'e', 'f', 'g', 'h', 'i', 'j', 'k', 'l', 'm', 'n', 'o', 'p', 'q', 'r', 's', 't', 'u', 'v', 'w', 'x', 'y', 'z']\n"
     ]
    }
   ],
   "source": [
    "# creatig the character list\n",
    "chars = sorted(set(text))\n",
    "vocab_size = len(chars)\n",
    "print(vocab_size)\n",
    "print(chars)"
   ]
  },
  {
   "cell_type": "code",
   "execution_count": 5,
   "id": "886ae753",
   "metadata": {},
   "outputs": [
    {
     "name": "stdout",
     "output_type": "stream",
     "text": [
      "[46, 47, 47, 1, 58, 46, 43, 56, 43]\n",
      "hii there\n"
     ]
    }
   ],
   "source": [
    "# tokenizing the characters\n",
    "itos = {i:char for i,char in enumerate(chars)}\n",
    "stoi = {char:i for i,char in enumerate(chars)}\n",
    "\n",
    "# encoder and decoder\n",
    "encode = lambda s: [stoi[c] for c in s]\n",
    "decode = lambda i: ''.join([itos[j] for j in i])\n",
    "\n",
    "# a simple sample\n",
    "print(encode(\"hii there\"))\n",
    "print(decode(encode(\"hii there\")))"
   ]
  },
  {
   "cell_type": "code",
   "execution_count": 6,
   "id": "acd62037",
   "metadata": {
    "scrolled": true
   },
   "outputs": [
    {
     "name": "stderr",
     "output_type": "stream",
     "text": [
      "/home/ftihsrglu/.local/lib/python3.6/site-packages/torch/package/_directory_reader.py:17: UserWarning: Failed to initialize NumPy: numpy.core.multiarray failed to import (Triggered internally at  ../torch/csrc/utils/tensor_numpy.cpp:68.)\n",
      "  _dtype_to_storage = {data_type(0).dtype: data_type for data_type in _storages}\n"
     ]
    },
    {
     "name": "stdout",
     "output_type": "stream",
     "text": [
      "tensor([18, 47, 56, 57, 58,  1, 15, 47, 58, 47, 64, 43, 52, 10,  0, 14, 43, 44,\n",
      "        53, 56, 43,  1, 61, 43,  1, 54, 56, 53, 41, 43, 43, 42,  1, 39, 52, 63,\n",
      "         1, 44, 59, 56, 58, 46, 43, 56,  6,  1, 46, 43, 39, 56,  1, 51, 43,  1,\n",
      "        57, 54, 43, 39, 49,  8,  0,  0, 13, 50, 50, 10,  0, 31, 54, 43, 39, 49,\n",
      "         6,  1, 57, 54, 43, 39, 49,  8,  0,  0, 18, 47, 56, 57, 58,  1, 15, 47,\n",
      "        58, 47, 64, 43, 52, 10,  0, 37, 53, 59,  1, 39, 56, 43,  1, 39, 50, 50,\n",
      "         1, 56, 43, 57, 53, 50, 60, 43, 42,  1, 56, 39, 58, 46, 43, 56,  1, 58,\n",
      "        53,  1, 42, 47, 43,  1, 58, 46, 39, 52,  1, 58, 53,  1, 44, 39, 51, 47,\n",
      "        57, 46, 12,  0,  0, 13, 50, 50, 10,  0, 30, 43, 57, 53, 50, 60, 43, 42,\n",
      "         8,  1, 56, 43, 57, 53, 50, 60, 43, 42,  8,  0,  0, 18, 47, 56, 57, 58,\n",
      "         1, 15, 47, 58, 47, 64, 43, 52, 10,  0, 18, 47, 56, 57, 58,  6,  1, 63,\n",
      "        53, 59,  1, 49, 52, 53, 61,  1, 15, 39, 47, 59, 57,  1, 25, 39, 56, 41,\n",
      "        47, 59, 57,  1, 47, 57,  1, 41, 46, 47, 43, 44,  1, 43, 52, 43, 51, 63,\n",
      "         1, 58, 53,  1, 58, 46, 43,  1, 54, 43, 53, 54, 50, 43,  8,  0])\n"
     ]
    }
   ],
   "source": [
    "# encoding all the training set\n",
    "import torch\n",
    "data = torch.tensor(encode(text), dtype=torch.long)\n",
    "print(data[:250])"
   ]
  },
  {
   "cell_type": "code",
   "execution_count": 7,
   "id": "8b0368be",
   "metadata": {},
   "outputs": [],
   "source": [
    "# train/val/test split\n",
    "n1 = int(0.8*len(data))\n",
    "n2 = int(0.9*len(data))\n",
    "train_set = data[:n1]\n",
    "val_set = data[n1:n2]\n",
    "test_set = data[n2:]"
   ]
  },
  {
   "cell_type": "code",
   "execution_count": 8,
   "id": "d7ef2f1d",
   "metadata": {},
   "outputs": [
    {
     "data": {
      "text/plain": [
       "tensor([18, 47, 56, 57, 58,  1, 15, 47])"
      ]
     },
     "execution_count": 8,
     "metadata": {},
     "output_type": "execute_result"
    }
   ],
   "source": [
    "# max block size or context length for an individual input\n",
    "block_size = 8\n",
    "train_set[:block_size]"
   ]
  },
  {
   "cell_type": "code",
   "execution_count": 9,
   "id": "215510a2",
   "metadata": {},
   "outputs": [
    {
     "name": "stdout",
     "output_type": "stream",
     "text": [
      "When context is tensor([18]), output is 47\n",
      "When context is tensor([18, 47]), output is 56\n",
      "When context is tensor([18, 47, 56]), output is 57\n",
      "When context is tensor([18, 47, 56, 57]), output is 58\n",
      "When context is tensor([18, 47, 56, 57, 58]), output is 1\n",
      "When context is tensor([18, 47, 56, 57, 58,  1]), output is 15\n",
      "When context is tensor([18, 47, 56, 57, 58,  1, 15]), output is 47\n",
      "When context is tensor([18, 47, 56, 57, 58,  1, 15, 47]), output is 58\n"
     ]
    }
   ],
   "source": [
    "x = train_set[:block_size]\n",
    "y = train_set[1:block_size+1]\n",
    "\n",
    "for i in range(block_size):\n",
    "    context = x[:i+1]\n",
    "    output = y[i]\n",
    "    print(f'When context is {context}, output is {output}')"
   ]
  },
  {
   "cell_type": "code",
   "execution_count": 10,
   "id": "bfce280e",
   "metadata": {},
   "outputs": [
    {
     "name": "stdout",
     "output_type": "stream",
     "text": [
      "inputs:\n",
      "torch.Size([4, 8])\n",
      "tensor([[43,  1, 54, 39, 50, 43,  1, 51],\n",
      "        [57, 39, 50, 47, 52, 43,  6,  1],\n",
      "        [ 0, 20, 53, 61,  1, 61, 43, 50],\n",
      "        [53,  1, 39, 57,  1, 58, 46, 53]])\n",
      "targets:\n",
      "torch.Size([4, 8])\n",
      "tensor([[ 1, 54, 39, 50, 43,  1, 51, 53],\n",
      "        [39, 50, 47, 52, 43,  6,  1, 51],\n",
      "        [20, 53, 61,  1, 61, 43, 50, 50],\n",
      "        [ 1, 39, 57,  1, 58, 46, 53, 59]])\n",
      "--------------------------\n",
      "context[43], output 1\n",
      "context[43, 1], output 54\n",
      "context[43, 1, 54], output 39\n",
      "context[43, 1, 54, 39], output 50\n",
      "context[43, 1, 54, 39, 50], output 43\n",
      "context[43, 1, 54, 39, 50, 43], output 1\n",
      "context[43, 1, 54, 39, 50, 43, 1], output 51\n",
      "context[43, 1, 54, 39, 50, 43, 1, 51], output 53\n",
      "context[57], output 39\n",
      "context[57, 39], output 50\n",
      "context[57, 39, 50], output 47\n",
      "context[57, 39, 50, 47], output 52\n",
      "context[57, 39, 50, 47, 52], output 43\n",
      "context[57, 39, 50, 47, 52, 43], output 6\n",
      "context[57, 39, 50, 47, 52, 43, 6], output 1\n",
      "context[57, 39, 50, 47, 52, 43, 6, 1], output 51\n",
      "context[0], output 20\n",
      "context[0, 20], output 53\n",
      "context[0, 20, 53], output 61\n",
      "context[0, 20, 53, 61], output 1\n",
      "context[0, 20, 53, 61, 1], output 61\n",
      "context[0, 20, 53, 61, 1, 61], output 43\n",
      "context[0, 20, 53, 61, 1, 61, 43], output 50\n",
      "context[0, 20, 53, 61, 1, 61, 43, 50], output 50\n",
      "context[53], output 1\n",
      "context[53, 1], output 39\n",
      "context[53, 1, 39], output 57\n",
      "context[53, 1, 39, 57], output 1\n",
      "context[53, 1, 39, 57, 1], output 58\n",
      "context[53, 1, 39, 57, 1, 58], output 46\n",
      "context[53, 1, 39, 57, 1, 58, 46], output 53\n",
      "context[53, 1, 39, 57, 1, 58, 46, 53], output 59\n"
     ]
    }
   ],
   "source": [
    "torch.manual_seed(31)\n",
    "batch_size = 4\n",
    "block_size = 8\n",
    "def get_batch(data, batch_size=4, block_size=8): # 4 different chunks with context size of 8\n",
    "    # specifying the dataset\n",
    "    if data == 'train':\n",
    "        data = train_set\n",
    "    elif data =='val':\n",
    "        data = val_set\n",
    "    else:\n",
    "        data = test_set\n",
    "    \n",
    "    ix = torch.randint(len(data) - block_size, (batch_size,))\n",
    "    x = torch.stack([data[i:i+block_size] for i in ix])\n",
    "    y = torch.stack([data[i+1:i+block_size+1] for i in ix])\n",
    "    \n",
    "    return x, y\n",
    "\n",
    "xb, yb = get_batch('train')\n",
    "print('inputs:')\n",
    "print(xb.shape)\n",
    "print(xb)\n",
    "print('targets:')\n",
    "print(yb.shape)\n",
    "print(yb)\n",
    "print('--------------------------')\n",
    "\n",
    "for b in range(batch_size):\n",
    "    for i in range(block_size):\n",
    "        context = xb[b, :i+1]\n",
    "        output = yb[b, i]\n",
    "        print(f'context{context.tolist()}, output {output}')"
   ]
  },
  {
   "cell_type": "code",
   "execution_count": 11,
   "id": "e2aa7320",
   "metadata": {},
   "outputs": [
    {
     "name": "stdout",
     "output_type": "stream",
     "text": [
      "torch.Size([32, 65])\n",
      "tensor([[-0.7645,  1.1787, -0.6077,  ...,  0.5836, -0.3440, -1.0587],\n",
      "        [ 0.3502, -0.6820,  0.1160,  ..., -1.9782, -1.5274,  2.5114],\n",
      "        [-1.5073,  0.4108, -1.6051,  ..., -0.3714,  0.1212, -1.2650],\n",
      "        ...,\n",
      "        [-0.8370,  0.5484,  0.0139,  ..., -1.3409,  0.0160, -0.4040],\n",
      "        [-1.2525,  0.9259,  0.0539,  ..., -0.2007,  1.1198,  0.4097],\n",
      "        [-0.5397, -1.2057, -0.0312,  ..., -0.5900, -0.2815,  0.8179]],\n",
      "       grad_fn=<ViewBackward0>)\n",
      "\n",
      "ldvqup;leglxvhOj,tOncBNr'iXXSSStTMHdt?NlIG'fOTKZEFFTWont-Bj.IO,cVquR!RVk?N\n",
      "lTm..vTqPP3!'QqiJfbb!'rpE\n"
     ]
    }
   ],
   "source": [
    "import torch.nn as nn\n",
    "from torch.nn import functional as functional\n",
    "torch.manual_seed(31)\n",
    "\n",
    "class BigramLanguageModel(nn.Module):\n",
    "    def __init__(self, vocab_size):\n",
    "        super().__init__()\n",
    "        # each token reads the logit for the next token\n",
    "        self.token_embedding_table = nn.Embedding(vocab_size, vocab_size)\n",
    "        \n",
    "    def forward(self, idx, targets=None):\n",
    "        # idx and targets are both (B,T) tensor of integers\n",
    "        logits = self.token_embedding_table(idx) # (B,T,C)\n",
    "        \n",
    "        if targets is None: # to successfully run the generate func\n",
    "            loss = None\n",
    "        else:\n",
    "            B, T, C = logits.shape\n",
    "            logits = logits.view(B*T, C)\n",
    "            targets = targets.view(B*T)\n",
    "            loss = functional.cross_entropy(logits, targets)\n",
    "        \n",
    "        return logits, loss\n",
    "    \n",
    "    def generate(self, idx, max_tokens):\n",
    "        # idx is (B,T) array of indices\n",
    "        for _ in range(max_tokens):\n",
    "            # getting the predictions\n",
    "            logits, loss = self(idx)\n",
    "            # focusing on the last indices\n",
    "            logits = logits[:, -1, :] # becomes (B,C)\n",
    "            # calculating the probabilities\n",
    "            probs = functional.softmax(logits, dim=1) # (B,C)\n",
    "            # sampling from prob distribution\n",
    "            idx_next = torch.multinomial(probs, num_samples=1) # (B,1)\n",
    "            # append the sampled index to the end of the context\n",
    "            idx = torch.cat((idx, idx_next), dim=1) # becomes (B,T+1)\n",
    "        return idx\n",
    "            \n",
    "m = BigramLanguageModel(vocab_size)\n",
    "logits, loss = m(xb, yb)\n",
    "print(logits.shape)\n",
    "print(logits)\n",
    "\n",
    "print(decode(m.generate(idx=torch.zeros((1,1), dtype=torch.long), max_tokens=100)[0].tolist()))"
   ]
  },
  {
   "cell_type": "code",
   "execution_count": 12,
   "id": "56e95521",
   "metadata": {},
   "outputs": [],
   "source": [
    "optimizer = torch.optim.AdamW(m.parameters(), lr=1e-3) # setting the adam optimizer"
   ]
  },
  {
   "cell_type": "code",
   "execution_count": 13,
   "id": "c02e3755",
   "metadata": {},
   "outputs": [
    {
     "name": "stdout",
     "output_type": "stream",
     "text": [
      "2.604684352874756\n"
     ]
    }
   ],
   "source": [
    "batch_size = 32\n",
    "\n",
    "for steps in range(10000):\n",
    "    # getting the batch\n",
    "    xb, yb = get_batch('train')\n",
    "    \n",
    "    # loss and backprop\n",
    "    logits, loss = m(xb, yb)\n",
    "    optimizer.zero_grad(set_to_none=True)\n",
    "    loss.backward()\n",
    "    optimizer.step()\n",
    "    \n",
    "print(loss.item())"
   ]
  },
  {
   "cell_type": "code",
   "execution_count": 14,
   "id": "9ae80f24",
   "metadata": {},
   "outputs": [
    {
     "name": "stdout",
     "output_type": "stream",
     "text": [
      "\n",
      "Thyourthiu l I way ss.\n",
      "Bmofouth:\n",
      "qO: bD$MEORBGLE:NETHTDDWarab oughay backWhavirsu y ulor th ssH'd'FK\n"
     ]
    }
   ],
   "source": [
    "print(decode(m.generate(idx=torch.zeros((1,1), dtype=torch.long), max_tokens=100)[0].tolist()))"
   ]
  },
  {
   "cell_type": "code",
   "execution_count": 16,
   "id": "3876dec9",
   "metadata": {},
   "outputs": [
    {
     "name": "stdout",
     "output_type": "stream",
     "text": [
      "torch.Size([4, 8, 2])\n"
     ]
    }
   ],
   "source": [
    "torch.manual_seed(31232)\n",
    "B, T, C = 4, 8, 2\n",
    "x = torch.randn(B, T, C)\n",
    "print(x.shape)"
   ]
  },
  {
   "cell_type": "code",
   "execution_count": 17,
   "id": "4b38c2a1",
   "metadata": {},
   "outputs": [
    {
     "data": {
      "text/plain": [
       "True"
      ]
     },
     "execution_count": 17,
     "metadata": {},
     "output_type": "execute_result"
    }
   ],
   "source": [
    "xbow = torch.zeros((B, T, C))\n",
    "for b in range(B):\n",
    "    for t in range(T):\n",
    "        xprev = x[b,:t+1]\n",
    "        xbow[b,t] = torch.mean(xprev, 0)\n",
    "\n",
    "xbow2 = torch.zeros((B, T, C))\n",
    "a = torch.tril(torch.ones(T,T))\n",
    "a = a / torch.tril(torch.ones(T,T)).sum(1, keepdim=True)\n",
    "xbow2 = a @ x\n",
    "\n",
    "torch.allclose(xbow,xbow2)"
   ]
  },
  {
   "cell_type": "code",
   "execution_count": 18,
   "id": "c31dfad7",
   "metadata": {},
   "outputs": [],
   "source": [
    "xbow2 = torch.zeros((B, T, C))\n",
    "tril = torch.tril(torch.ones(T,T))\n",
    "wei = torch.zeros((T,T))\n",
    "wei = wei.masked_fill(tril == 0, float('-inf'))\n",
    "wei = functional.softmax(wei, dim=1)\n",
    "xbow3 = wei @ x"
   ]
  },
  {
   "cell_type": "code",
   "execution_count": 20,
   "id": "765017e7",
   "metadata": {},
   "outputs": [
    {
     "data": {
      "text/plain": [
       "torch.Size([4, 8, 32])"
      ]
     },
     "execution_count": 20,
     "metadata": {},
     "output_type": "execute_result"
    }
   ],
   "source": [
    "a = torch.randint(0,10,(4,8,32))\n",
    "b = torch.randint(0,10,(8,32))\n",
    "(a+b).shape"
   ]
  },
  {
   "cell_type": "code",
   "execution_count": 21,
   "id": "85c358ce",
   "metadata": {},
   "outputs": [
    {
     "data": {
      "text/plain": [
       "tensor([[8, 5, 5, 2, 5, 5, 6, 4, 9, 2, 8, 0, 6, 3, 2, 7, 2, 6, 9, 8, 8, 9, 5, 9,\n",
       "         7, 3, 6, 5, 6, 8, 8, 4],\n",
       "        [2, 0, 3, 1, 1, 4, 9, 5, 7, 5, 1, 6, 5, 6, 8, 2, 1, 3, 3, 0, 8, 5, 0, 3,\n",
       "         4, 3, 6, 3, 2, 7, 8, 1],\n",
       "        [2, 5, 5, 4, 2, 6, 4, 9, 0, 6, 9, 2, 8, 4, 9, 6, 4, 7, 6, 6, 9, 4, 1, 6,\n",
       "         4, 7, 5, 7, 4, 5, 1, 3],\n",
       "        [3, 5, 0, 2, 6, 7, 8, 7, 9, 3, 9, 2, 9, 0, 9, 5, 8, 9, 1, 3, 6, 0, 8, 6,\n",
       "         9, 1, 6, 2, 0, 9, 5, 6],\n",
       "        [8, 9, 1, 2, 0, 6, 1, 0, 7, 0, 0, 0, 0, 5, 7, 5, 1, 1, 2, 2, 6, 3, 5, 9,\n",
       "         8, 6, 7, 8, 7, 1, 7, 9],\n",
       "        [4, 0, 9, 2, 8, 3, 6, 0, 2, 8, 1, 7, 9, 2, 9, 2, 9, 6, 1, 8, 6, 2, 0, 8,\n",
       "         1, 3, 8, 2, 3, 1, 9, 1],\n",
       "        [2, 0, 0, 1, 1, 5, 2, 6, 5, 0, 6, 8, 6, 0, 1, 6, 9, 2, 2, 2, 5, 7, 7, 5,\n",
       "         1, 6, 0, 5, 0, 2, 0, 9],\n",
       "        [6, 4, 2, 7, 2, 0, 8, 9, 5, 4, 1, 5, 4, 2, 0, 0, 6, 3, 5, 1, 8, 9, 9, 7,\n",
       "         3, 5, 1, 8, 6, 9, 3, 0]])"
      ]
     },
     "execution_count": 21,
     "metadata": {},
     "output_type": "execute_result"
    }
   ],
   "source": [
    "b"
   ]
  },
  {
   "cell_type": "code",
   "execution_count": 80,
   "id": "bea2b905",
   "metadata": {},
   "outputs": [
    {
     "name": "stdout",
     "output_type": "stream",
     "text": [
      "tensor([[-0.2340,  1.3857],\n",
      "        [-0.5039, -0.1627],\n",
      "        [-0.3504, -0.5292],\n",
      "        [-0.3257, -0.4636],\n",
      "        [-0.1988, -0.3157],\n",
      "        [-0.3342, -0.4475],\n",
      "        [-0.2120, -0.4250],\n",
      "        [-0.3504, -0.2801]])\n",
      "tensor([[-0.2340,  1.3857],\n",
      "        [-0.5039, -0.1627],\n",
      "        [-0.3504, -0.5292],\n",
      "        [-0.3257, -0.4636],\n",
      "        [-0.1988, -0.3157],\n",
      "        [-0.3342, -0.4475],\n",
      "        [-0.2120, -0.4250],\n",
      "        [-0.3504, -0.2801]])\n"
     ]
    }
   ],
   "source": [
    "print(xbow[0])\n",
    "print(xbow2[0])"
   ]
  },
  {
   "cell_type": "code",
   "execution_count": 70,
   "id": "2d8a6a62",
   "metadata": {},
   "outputs": [
    {
     "name": "stdout",
     "output_type": "stream",
     "text": [
      "tensor([[1.0000, 0.0000, 0.0000],\n",
      "        [0.5000, 0.5000, 0.0000],\n",
      "        [0.3333, 0.3333, 0.3333]])\n",
      "tensor([[6., 5.],\n",
      "        [0., 2.],\n",
      "        [4., 1.]])\n",
      "tensor([[6.0000, 5.0000],\n",
      "        [3.0000, 3.5000],\n",
      "        [3.3333, 2.6667]])\n"
     ]
    }
   ],
   "source": [
    "torch.manual_seed(31)\n",
    "a = torch.tril(torch.ones(3,3))\n",
    "a = a / torch.tril(torch.ones(3,3)).sum(1, keepdim=True)\n",
    "b = torch.randint(0 , 10, (3,2)).float()\n",
    "c = a @ b\n",
    "\n",
    "print(f\"{a}\")\n",
    "print(f\"{b}\")\n",
    "print(f\"{c}\")\n",
    "\n",
    "#torch.tril(torch.ones(3,3))"
   ]
  },
  {
   "cell_type": "code",
   "execution_count": 68,
   "id": "429db0b2",
   "metadata": {},
   "outputs": [
    {
     "data": {
      "text/plain": [
       "tensor([[1.0000, 0.0000, 0.0000],\n",
       "        [0.5000, 0.5000, 0.0000],\n",
       "        [0.3333, 0.3333, 0.3333]])"
      ]
     },
     "execution_count": 68,
     "metadata": {},
     "output_type": "execute_result"
    }
   ],
   "source": [
    "a = torch.tril(torch.ones(3,3))\n",
    "a / torch.tril(torch.ones(3,3)).sum(1, keepdim=True)"
   ]
  },
  {
   "cell_type": "code",
   "execution_count": null,
   "id": "330713d1",
   "metadata": {},
   "outputs": [],
   "source": []
  },
  {
   "cell_type": "code",
   "execution_count": null,
   "id": "2c426b66",
   "metadata": {},
   "outputs": [],
   "source": []
  },
  {
   "cell_type": "code",
   "execution_count": null,
   "id": "c9043e7a",
   "metadata": {},
   "outputs": [],
   "source": []
  }
 ],
 "metadata": {
  "kernelspec": {
   "display_name": "Python 3 (ipykernel)",
   "language": "python",
   "name": "python3"
  },
  "language_info": {
   "codemirror_mode": {
    "name": "ipython",
    "version": 3
   },
   "file_extension": ".py",
   "mimetype": "text/x-python",
   "name": "python",
   "nbconvert_exporter": "python",
   "pygments_lexer": "ipython3",
   "version": "3.6.9"
  }
 },
 "nbformat": 4,
 "nbformat_minor": 5
}
